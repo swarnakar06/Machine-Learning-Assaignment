{
  "nbformat": 4,
  "nbformat_minor": 0,
  "metadata": {
    "colab": {
      "provenance": []
    },
    "kernelspec": {
      "name": "python3",
      "display_name": "Python 3"
    },
    "language_info": {
      "name": "python"
    }
  },
  "cells": [
    {
      "cell_type": "code",
      "execution_count": 1,
      "metadata": {
        "colab": {
          "base_uri": "https://localhost:8080/",
          "height": 0
        },
        "id": "mxweNRu9klQA",
        "outputId": "4b1c8fd4-4fda-436f-8d45-2d576927fb49"
      },
      "outputs": [
        {
          "output_type": "stream",
          "name": "stdout",
          "text": [
            "Accuracy: 0.9777777777777777\n"
          ]
        }
      ],
      "source": [
        "#q1 i)Step-by-Step Implementation of Gaussian Naïve Bayes Classifier\n",
        "import numpy as np\n",
        "from sklearn.datasets import load_iris\n",
        "from sklearn.model_selection import train_test_split\n",
        "from sklearn.metrics import accuracy_score\n",
        "\n",
        "# Load dataset\n",
        "iris = load_iris()\n",
        "X, y = iris.data, iris.target\n",
        "\n",
        "# Split the dataset into train and test\n",
        "X_train, X_test, y_train, y_test = train_test_split(X, y, test_size=0.3, random_state=42)\n",
        "\n",
        "class GaussianNaiveBayes:\n",
        "    def fit(self, X, y):\n",
        "        self.classes = np.unique(y)\n",
        "        self.mean = np.zeros((len(self.classes), X.shape[1]))\n",
        "        self.var = np.zeros((len(self.classes), X.shape[1]))\n",
        "        self.priors = np.zeros(len(self.classes))\n",
        "\n",
        "        for idx, c in enumerate(self.classes):\n",
        "            X_c = X[y == c]\n",
        "            self.mean[idx, :] = X_c.mean(axis=0)\n",
        "            self.var[idx, :] = X_c.var(axis=0)\n",
        "            self.priors[idx] = X_c.shape[0] / float(X.shape[0])\n",
        "\n",
        "    def _calculate_likelihood(self, class_idx, x):\n",
        "        mean = self.mean[class_idx]\n",
        "        var = self.var[class_idx]\n",
        "        numerator = np.exp(-((x - mean) ** 2) / (2 * var))\n",
        "        denominator = np.sqrt(2 * np.pi * var)\n",
        "        return numerator / denominator\n",
        "\n",
        "    def _calculate_posterior(self, x):\n",
        "        posteriors = []\n",
        "        for idx, _ in enumerate(self.classes):\n",
        "            prior = np.log(self.priors[idx])\n",
        "            conditional = np.sum(np.log(self._calculate_likelihood(idx, x)))\n",
        "            posterior = prior + conditional\n",
        "            posteriors.append(posterior)\n",
        "        return self.classes[np.argmax(posteriors)]\n",
        "\n",
        "    def predict(self, X):\n",
        "        return [self._calculate_posterior(x) for x in X]\n",
        "\n",
        "# Train the model\n",
        "gnb = GaussianNaiveBayes()\n",
        "gnb.fit(X_train, y_train)\n",
        "\n",
        "# Predict and evaluate\n",
        "y_pred = gnb.predict(X_test)\n",
        "print(f\"Accuracy: {accuracy_score(y_test, y_pred)}\")\n"
      ]
    },
    {
      "cell_type": "code",
      "source": [
        "# ii)Using In-Built Function for Gaussian Naïve Bayes\n",
        "from sklearn.naive_bayes import GaussianNB\n",
        "\n",
        "# Instantiate the model\n",
        "gnb = GaussianNB()\n",
        "\n",
        "# Train the model\n",
        "gnb.fit(X_train, y_train)\n",
        "\n",
        "# Predict and evaluate\n",
        "y_pred = gnb.predict(X_test)\n",
        "print(f\"Accuracy: {accuracy_score(y_test, y_pred)}\")\n",
        "\n"
      ],
      "metadata": {
        "colab": {
          "base_uri": "https://localhost:8080/",
          "height": 0
        },
        "id": "Ac11d7Tllzkd",
        "outputId": "4e9ec275-c472-4a5a-c9aa-b19581cf2679"
      },
      "execution_count": 2,
      "outputs": [
        {
          "output_type": "stream",
          "name": "stdout",
          "text": [
            "Accuracy: 0.9777777777777777\n"
          ]
        }
      ]
    },
    {
      "cell_type": "code",
      "source": [
        "# 2. Hyperparameter Tuning with GridSearchCV\n",
        "from sklearn.neighbors import KNeighborsClassifier\n",
        "from sklearn.model_selection import GridSearchCV\n",
        "\n",
        "# Set up the parameter grid to test values of K from 1 to 10\n",
        "param_grid = {'n_neighbors': np.arange(1, 11)}\n",
        "\n",
        "# Initialize the KNN classifier\n",
        "knn = KNeighborsClassifier()\n",
        "\n",
        "# Initialize GridSearchCV with KNN and the parameter grid\n",
        "grid_search = GridSearchCV(knn, param_grid, cv=5, scoring='accuracy')\n",
        "\n",
        "# Fit GridSearchCV on the training data\n",
        "grid_search.fit(X_train, y_train)\n",
        "\n",
        "# Print the best parameter and best score\n",
        "print(f\"Best K: {grid_search.best_params_}\")\n",
        "print(f\"Best Score: {grid_search.best_score_}\")\n",
        "\n",
        "# Use the best estimator to make predictions\n",
        "best_knn = grid_search.best_estimator_\n",
        "y_pred = best_knn.predict(X_test)\n",
        "print(f\"Test Accuracy with Best K: {accuracy_score(y_test, y_pred)}\")\n"
      ],
      "metadata": {
        "colab": {
          "base_uri": "https://localhost:8080/",
          "height": 0
        },
        "id": "okcE8hGjmL3o",
        "outputId": "b6ed5ab8-e92f-404d-9362-bf391d2e9e81"
      },
      "execution_count": 3,
      "outputs": [
        {
          "output_type": "stream",
          "name": "stdout",
          "text": [
            "Best K: {'n_neighbors': 1}\n",
            "Best Score: 0.9523809523809523\n",
            "Test Accuracy with Best K: 1.0\n"
          ]
        }
      ]
    }
  ]
}