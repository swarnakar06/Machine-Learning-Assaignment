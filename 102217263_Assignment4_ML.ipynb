{
  "nbformat": 4,
  "nbformat_minor": 0,
  "metadata": {
    "colab": {
      "provenance": []
    },
    "kernelspec": {
      "name": "python3",
      "display_name": "Python 3"
    },
    "language_info": {
      "name": "python"
    }
  },
  "cells": [
    {
      "cell_type": "markdown",
      "source": [
        "Q-1"
      ],
      "metadata": {
        "id": "tUctMzP0k7QY"
      }
    },
    {
      "cell_type": "code",
      "source": [
        "import numpy as np\n",
        "import pandas as pd\n",
        "from sklearn.metrics import r2_score\n",
        "\n",
        "np.random.seed(42)\n",
        "\n",
        "n_samples = 1000\n",
        "X1 = np.random.randn(n_samples)\n",
        "X2 = X1 + np.random.normal(0, 0.1, n_samples)\n",
        "X3 = X1 + np.random.normal(0, 0.1, n_samples)\n",
        "X4 = X1 + np.random.normal(0, 0.1, n_samples)\n",
        "X5 = X1 + np.random.normal(0, 0.1, n_samples)\n",
        "X6 = X1 + np.random.normal(0, 0.1, n_samples)\n",
        "X7 = X1 + np.random.normal(0, 0.1, n_samples)\n",
        "\n",
        "y = 5 * X1 + 3 * X2 + 2 * X3 + np.random.normal(0, 0.5, n_samples)\n",
        "\n",
        "X = pd.DataFrame({'X1': X1, 'X2': X2, 'X3': X3, 'X4': X4, 'X5': X5, 'X6': X6, 'X7': X7})\n",
        "\n",
        "def ridge_gradient_descent(X, y, learning_rate, regularization_param, n_iterations=1000):\n",
        "    m, n = X.shape\n",
        "    weights = np.zeros(n)\n",
        "    y = y.flatten()\n",
        "\n",
        "    for i in range(n_iterations):\n",
        "        predictions = X.dot(weights)\n",
        "        errors = predictions - y\n",
        "        gradient = (2/m) * (X.T.dot(errors) + regularization_param * weights)\n",
        "        weights -= learning_rate * gradient\n",
        "\n",
        "        if np.any(np.isnan(weights)) or np.any(np.isinf(weights)):\n",
        "            print(\"NaN or Inf detected in weights during training.\")\n",
        "            return weights\n",
        "\n",
        "    return weights\n",
        "\n",
        "def calculate_cost(X, y, weights, regularization_param):\n",
        "    m = len(y)\n",
        "    predictions = X.dot(weights)\n",
        "    cost = (1/m) * np.sum((predictions - y) ** 2) + regularization_param * np.sum(weights ** 2)\n",
        "    return cost\n",
        "\n",
        "X_with_bias = np.c_[np.ones(X.shape[0]), X]\n",
        "\n",
        "learning_rates = [0.0001, 0.001, 0.01, 0.1, 1, 10]\n",
        "regularization_params = [10**-15, 10**-10, 10**-5, 10**-3, 0, 1, 10, 20]\n",
        "\n",
        "best_cost = float('inf')\n",
        "best_r2 = float('-inf')\n",
        "best_params = None\n",
        "\n",
        "for lr in learning_rates:\n",
        "    for reg_param in regularization_params:\n",
        "        weights = ridge_gradient_descent(X_with_bias, y, lr, reg_param)\n",
        "        cost = calculate_cost(X_with_bias, y, weights, reg_param)\n",
        "\n",
        "        predictions = X_with_bias.dot(weights)\n",
        "\n",
        "        if np.any(np.isnan(predictions)):\n",
        "            print(\"NaN detected in predictions.\")\n",
        "            continue\n",
        "\n",
        "        r2 = r2_score(y, predictions)\n",
        "\n",
        "        if cost < best_cost and r2 > best_r2:\n",
        "            best_cost = cost\n",
        "            best_r2 = r2\n",
        "            best_params = (lr, reg_param)\n",
        "\n",
        "print(f\"Best parameters: Learning Rate = {best_params[0]}, Regularization Parameter = {best_params[1]}\")\n",
        "print(f\"Minimum Cost: {best_cost:.4f}, Maximum R² Score: {best_r2:.4f}\")\n"
      ],
      "metadata": {
        "id": "ahLfvkUzk9kl",
        "colab": {
          "base_uri": "https://localhost:8080/"
        },
        "outputId": "2aec7b25-406f-4dd4-c4fb-5e0c89b40fc0"
      },
      "execution_count": 16,
      "outputs": [
        {
          "output_type": "stream",
          "name": "stdout",
          "text": [
            "NaN or Inf detected in weights during training.\n",
            "NaN detected in predictions.\n",
            "NaN or Inf detected in weights during training.\n",
            "NaN detected in predictions.\n",
            "NaN or Inf detected in weights during training.\n",
            "NaN detected in predictions.\n",
            "NaN or Inf detected in weights during training.\n",
            "NaN detected in predictions.\n",
            "NaN or Inf detected in weights during training.\n",
            "NaN detected in predictions.\n",
            "NaN or Inf detected in weights during training.\n",
            "NaN detected in predictions.\n",
            "NaN or Inf detected in weights during training.\n",
            "NaN detected in predictions.\n",
            "NaN or Inf detected in weights during training.\n"
          ]
        },
        {
          "output_type": "stream",
          "name": "stderr",
          "text": [
            "<ipython-input-16-31b841b50e13>:40: RuntimeWarning: overflow encountered in square\n",
            "  cost = (1/m) * np.sum((predictions - y) ** 2) + regularization_param * np.sum(weights ** 2)\n",
            "<ipython-input-16-31b841b50e13>:40: RuntimeWarning: invalid value encountered in scalar multiply\n",
            "  cost = (1/m) * np.sum((predictions - y) ** 2) + regularization_param * np.sum(weights ** 2)\n"
          ]
        },
        {
          "output_type": "stream",
          "name": "stdout",
          "text": [
            "NaN detected in predictions.\n",
            "NaN or Inf detected in weights during training.\n",
            "NaN detected in predictions.\n",
            "NaN or Inf detected in weights during training.\n",
            "NaN detected in predictions.\n",
            "NaN or Inf detected in weights during training.\n",
            "NaN detected in predictions.\n",
            "NaN or Inf detected in weights during training.\n",
            "NaN detected in predictions.\n",
            "NaN or Inf detected in weights during training.\n",
            "NaN detected in predictions.\n",
            "NaN or Inf detected in weights during training.\n",
            "NaN detected in predictions.\n",
            "NaN or Inf detected in weights during training.\n",
            "NaN detected in predictions.\n",
            "NaN or Inf detected in weights during training.\n",
            "NaN detected in predictions.\n",
            "Best parameters: Learning Rate = 0.1, Regularization Parameter = 1e-15\n",
            "Minimum Cost: 0.2781, Maximum R² Score: 0.9971\n"
          ]
        }
      ]
    },
    {
      "cell_type": "markdown",
      "source": [
        "Q-2\n"
      ],
      "metadata": {
        "id": "nK77EZNWvo1O"
      }
    },
    {
      "cell_type": "code",
      "source": [
        "import pandas as pd\n",
        "from sklearn.model_selection import train_test_split\n",
        "from sklearn.preprocessing import StandardScaler\n",
        "from sklearn.linear_model import LinearRegression, Ridge, Lasso\n",
        "from sklearn.metrics import mean_absolute_error, mean_squared_error, r2_score\n",
        "\n",
        "url = 'Hitters.csv'\n",
        "data = pd.read_csv(url)\n",
        "\n",
        "print(\"Null values in each column:\\n\", data.isnull().sum())\n",
        "data = data.dropna()\n",
        "data = pd.get_dummies(data, drop_first=True)\n",
        "\n",
        "X = data.drop('Salary', axis=1)\n",
        "y = data['Salary']\n",
        "\n",
        "X_train, X_test, y_train, y_test = train_test_split(X, y, test_size=0.2, random_state=42)\n",
        "\n",
        "scaler = StandardScaler()\n",
        "X_train_scaled = scaler.fit_transform(X_train)\n",
        "X_test_scaled = scaler.transform(X_test)\n",
        "\n",
        "linear_model = LinearRegression()\n",
        "ridge_model = Ridge(alpha=0.5748)\n",
        "lasso_model = Lasso(alpha=0.5748)\n",
        "\n",
        "linear_model.fit(X_train_scaled, y_train)\n",
        "ridge_model.fit(X_train_scaled, y_train)\n",
        "lasso_model.fit(X_train_scaled, y_train)\n",
        "\n",
        "linear_preds = linear_model.predict(X_test_scaled)\n",
        "ridge_preds = ridge_model.predict(X_test_scaled)\n",
        "lasso_preds = lasso_model.predict(X_test_scaled)\n",
        "\n",
        "for model_name, preds in zip(['Linear', 'Ridge', 'Lasso'], [linear_preds, ridge_preds, lasso_preds]):\n",
        "    mae = mean_absolute_error(y_test, preds)\n",
        "    mse = mean_squared_error(y_test, preds)\n",
        "    r2 = r2_score(y_test, preds)\n",
        "    print(f\"{model_name} Model: MAE = {mae:.2f}, MSE = {mse:.2f}, R² = {r2:.2f}\")\n"
      ],
      "metadata": {
        "colab": {
          "base_uri": "https://localhost:8080/"
        },
        "id": "2MCwYsmFvqTD",
        "outputId": "623eb7c5-814f-4153-9a8a-28f6088e47f7"
      },
      "execution_count": 12,
      "outputs": [
        {
          "output_type": "stream",
          "name": "stdout",
          "text": [
            "Null values in each column:\n",
            " AtBat         0\n",
            "Hits          0\n",
            "HmRun         0\n",
            "Runs          0\n",
            "RBI           0\n",
            "Walks         0\n",
            "Years         0\n",
            "CAtBat        0\n",
            "CHits         0\n",
            "CHmRun        0\n",
            "CRuns         0\n",
            "CRBI          0\n",
            "CWalks        0\n",
            "League        0\n",
            "Division      0\n",
            "PutOuts       0\n",
            "Assists       0\n",
            "Errors        0\n",
            "Salary       59\n",
            "NewLeague     0\n",
            "dtype: int64\n",
            "Linear Model: MAE = 211.12, MSE = 128284.35, R² = 0.29\n",
            "Ridge Model: MAE = 204.66, MSE = 126603.90, R² = 0.30\n",
            "Lasso Model: MAE = 206.21, MSE = 126739.57, R² = 0.30\n"
          ]
        },
        {
          "output_type": "stream",
          "name": "stderr",
          "text": [
            "/usr/local/lib/python3.10/dist-packages/sklearn/linear_model/_coordinate_descent.py:697: ConvergenceWarning: Objective did not converge. You might want to increase the number of iterations, check the scale of the features or consider increasing regularisation. Duality gap: 1.185e+04, tolerance: 4.367e+03\n",
            "  model = cd_fast.enet_coordinate_descent(\n"
          ]
        }
      ]
    },
    {
      "cell_type": "markdown",
      "source": [
        "Q-3\n"
      ],
      "metadata": {
        "id": "1e_6CsOopVmr"
      }
    },
    {
      "cell_type": "code",
      "source": [
        "import pandas as pd\n",
        "import numpy as np\n",
        "from sklearn.model_selection import train_test_split\n",
        "from sklearn.linear_model import RidgeCV, LassoCV\n",
        "from sklearn.metrics import mean_squared_error, r2_score\n",
        "\n",
        "data = pd.read_csv('Boston_Housing.csv')\n",
        "\n",
        "print(data.head())\n",
        "\n",
        "X = data.iloc[:, :-1]\n",
        "y = data.iloc[:, -1]\n",
        "\n",
        "X_train, X_test, y_train, y_test = train_test_split(X, y, test_size=0.2, random_state=42)\n",
        "\n",
        "ridge_alphas = np.logspace(-6, 6, 13)\n",
        "ridge_model = RidgeCV(alphas=ridge_alphas, store_cv_values=True)\n",
        "ridge_model.fit(X_train, y_train)\n",
        "\n",
        "y_pred_ridge = ridge_model.predict(X_test)\n",
        "ridge_mse = mean_squared_error(y_test, y_pred_ridge)\n",
        "ridge_r2 = r2_score(y_test, y_pred_ridge)\n",
        "\n",
        "print(f\"Ridge Regression: Best Alpha: {ridge_model.alpha_}, MSE: {ridge_mse:.2f}, R² Score: {ridge_r2:.2f}\")\n",
        "\n",
        "lasso_alphas = np.logspace(-6, 6, 13)\n",
        "lasso_model = LassoCV(alphas=lasso_alphas, cv=5)\n",
        "lasso_model.fit(X_train, y_train)\n",
        "\n",
        "y_pred_lasso = lasso_model.predict(X_test)\n",
        "lasso_mse = mean_squared_error(y_test, y_pred_lasso)\n",
        "lasso_r2 = r2_score(y_test, y_pred_lasso)\n",
        "\n",
        "print(f\"Lasso Regression: Best Alpha: {lasso_model.alpha_}, MSE: {lasso_mse:.2f}, R² Score: {lasso_r2:.2f}\")\n"
      ],
      "metadata": {
        "colab": {
          "base_uri": "https://localhost:8080/"
        },
        "id": "RHaqCz5Iq8CW",
        "outputId": "3ec90b70-098c-4f1d-e657-e6b1a22f2618"
      },
      "execution_count": 10,
      "outputs": [
        {
          "output_type": "stream",
          "name": "stdout",
          "text": [
            "      CRIM    ZN  INDUS  CHAS    NOX     RM   AGE     DIS  RAD  TAX  PTRATIO  \\\n",
            "0  0.00632  18.0   2.31     0  0.538  6.575  65.2  4.0900    1  296     15.3   \n",
            "1  0.02731   0.0   7.07     0  0.469  6.421  78.9  4.9671    2  242     17.8   \n",
            "2  0.02729   0.0   7.07     0  0.469  7.185  61.1  4.9671    2  242     17.8   \n",
            "3  0.03237   0.0   2.18     0  0.458  6.998  45.8  6.0622    3  222     18.7   \n",
            "4  0.06905   0.0   2.18     0  0.458  7.147  54.2  6.0622    3  222     18.7   \n",
            "\n",
            "        B  LSTAT  MEDV  \n",
            "0  396.90   4.98  24.0  \n",
            "1  396.90   9.14  21.6  \n",
            "2  392.83   4.03  34.7  \n",
            "3  394.63   2.94  33.4  \n",
            "4  396.90   5.33  36.2  \n",
            "Ridge Regression: Best Alpha: 0.01, MSE: 24.29, R² Score: 0.67\n",
            "Lasso Regression: Best Alpha: 1e-06, MSE: 24.29, R² Score: 0.67\n"
          ]
        },
        {
          "output_type": "stream",
          "name": "stderr",
          "text": [
            "/usr/local/lib/python3.10/dist-packages/sklearn/linear_model/_ridge.py:2341: FutureWarning: 'store_cv_values' is deprecated in version 1.5 and will be removed in 1.7. Use 'store_cv_results' instead.\n",
            "  warnings.warn(\n"
          ]
        }
      ]
    }
  ]
}